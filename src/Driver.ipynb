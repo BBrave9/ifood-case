{
 "cells": [
  {
   "cell_type": "code",
   "execution_count": 0,
   "metadata": {
    "application/vnd.databricks.v1+cell": {
     "cellMetadata": {
      "byteLimit": 2048000,
      "rowLimit": 10000
     },
     "inputWidgets": {},
     "nuid": "38f7ace5-c737-4553-9198-c734a6033d5b",
     "showTitle": true,
     "tableResultSettingsMap": {},
     "title": "Execution Orchestration"
    }
   },
   "outputs": [],
   "source": [
    "# Driver: Orchestrate the execution of the silver layer ---------------------------------------------------\n",
    "import sys, importlib, pkgutil, pprint\n",
    "\n",
    "repo_path = \"/Workspace/Repos/soaresbianca_@outlook.com/ifood-case/src\"\n",
    "if repo_path not in sys.path:\n",
    "    sys.path.append(repo_path)\n",
    "\n",
    "from core import process_taxi_data \n",
    "from config import *              \n",
    "from core import process_taxi_data\n",
    "import transforms\n",
    "\n",
    "column_data_dictionaries = {\n",
    "    \"fhv_silver\": FHV_DICT,\n",
    "    \"green_silver\": GREEN_DICT,\n",
    "    \"hv_fhv_silver\": HVFHV_DICT,\n",
    "    \"yellow_silver\": YELLOW_DICT\n",
    "}\n",
    "\n",
    "# -----------------------------------------------------------------\n",
    "# 1. Create Database\n",
    "# -----------------------------------------------------------------\n",
    "spark.sql(f\"CREATE DATABASE IF NOT EXISTS {DATABASE_NAME}\")\n",
    "print(f\"Database '{DATABASE_NAME}' pronto.\\n\")\n",
    "\n",
    "# -----------------------------------------------------------------\n",
    "# 2. Data ingestion\n",
    "# -----------------------------------------------------------------\n",
    "for trip_type in TRIP_CONFIG.keys():\n",
    "    for m in MONTHS:\n",
    "        print(\"Trip Type: \" + trip_type)\n",
    "        process_taxi_data(trip_type, YEAR, m)\n",
    "\n",
    "print(\"\\n--- Ingestão Silver finalizada ---\\n\")\n",
    "\n",
    "# -----------------------------------------------------------------\n",
    "# 3. Create silver tables at s3\n",
    "# -----------------------------------------------------------------\n",
    "for trip_type, cfg in TRIP_CONFIG.items():\n",
    "    suffix = cfg[\"silver_suffix\"]\n",
    "    table_name = f\"{DATABASE_NAME}.{suffix}\"\n",
    "    table_path = f\"{SILVER_S3_BASE_PATH}{suffix}\"\n",
    "    table_description = TRIP_COMMENTS[suffix]\n",
    "    spark.sql(f\"\"\"\n",
    "        CREATE TABLE IF NOT EXISTS {table_name}\n",
    "        USING DELTA\n",
    "        LOCATION '{table_path}'\n",
    "    \"\"\")\n",
    "    print(f\"Tabela criada: {table_name} -> {table_path}\")\n",
    "\n",
    "    # Add Comment to Table\n",
    "    try:\n",
    "        spark.sql(f\"\"\"\n",
    "            COMMENT ON TABLE {table_name} IS '{table_description}'\n",
    "        \"\"\")\n",
    "    except Exception as e:\n",
    "        print(f\"  - ERRO ao adicionar comentário para a tabela '{table_name}': {e}\")\n",
    "    print(f\"\\nComentario Tabela: {table_name}: {table_description}\")\n",
    "\n",
    "    # Add columns description\n",
    "    if suffix in column_data_dictionaries:\n",
    "        column_dict = column_data_dictionaries[suffix]\n",
    "        print(f\"Adicionando comentários para as colunas da tabela {table_name}...\")\n",
    "        for column_name, column_description in column_dict.items():\n",
    "            try:\n",
    "                spark.sql(f\"\"\"\n",
    "                    COMMENT ON COLUMN {table_name}.{column_name} IS '{column_description}'\n",
    "                \"\"\")\n",
    "            except Exception as e:\n",
    "                print(f\"  - ERRO ao adicionar comentário para a coluna '{column_name}': {e}\")\n",
    "                print(f\"    Verifique se a coluna '{column_name}' existe no esquema da tabela '{table_name}'.\")\n",
    "    else:\n",
    "        print(f\"Nenhum dicionário de colunas encontrado para o sufixo: {suffix}. Comentários de coluna não adicionados.\")\n",
    "\n",
    "print(\"\\n Pipeline Silver concluído com sucesso.\")"
   ]
  }
 ],
 "metadata": {
  "application/vnd.databricks.v1+notebook": {
   "computePreferences": null,
   "dashboards": [],
   "environmentMetadata": {
    "base_environment": "",
    "environment_version": "2"
   },
   "inputWidgetPreferences": null,
   "language": "python",
   "notebookMetadata": {
    "pythonIndentUnit": 4
   },
   "notebookName": "Driver",
   "widgets": {}
  },
  "language_info": {
   "name": "python"
  }
 },
 "nbformat": 4,
 "nbformat_minor": 0
}
